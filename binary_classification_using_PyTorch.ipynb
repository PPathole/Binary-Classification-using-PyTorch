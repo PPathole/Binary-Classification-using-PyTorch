{
  "nbformat": 4,
  "nbformat_minor": 0,
  "metadata": {
    "colab": {
      "provenance": []
    },
    "kernelspec": {
      "name": "python3",
      "display_name": "Python 3"
    },
    "language_info": {
      "name": "python"
    }
  },
  "cells": [
    {
      "cell_type": "code",
      "execution_count": null,
      "metadata": {
        "id": "J_zpyPuLm7C-"
      },
      "outputs": [],
      "source": [
        "import torch\n",
        "from torch import nn\n",
        "import numpy as np\n",
        "import pandas as pd\n",
        "import matplotlib.pyplot as plt"
      ]
    },
    {
      "cell_type": "code",
      "source": [
        "from sklearn.datasets import load_breast_cancer"
      ],
      "metadata": {
        "id": "gM3vqTS4ncAo"
      },
      "execution_count": null,
      "outputs": []
    },
    {
      "cell_type": "code",
      "source": [
        "breast_cancer = load_breast_cancer()"
      ],
      "metadata": {
        "id": "wzoj3CkHoAa_"
      },
      "execution_count": null,
      "outputs": []
    },
    {
      "cell_type": "code",
      "source": [
        "data1 = pd.DataFrame(data=breast_cancer.data, columns=breast_cancer.feature_names)\n",
        "data1[\"target\"] = breast_cancer.target"
      ],
      "metadata": {
        "id": "omFqNb3uoEJB"
      },
      "execution_count": null,
      "outputs": []
    },
    {
      "cell_type": "code",
      "source": [
        "data1.head()"
      ],
      "metadata": {
        "colab": {
          "base_uri": "https://localhost:8080/",
          "height": 334
        },
        "id": "SzKCfX_doVfA",
        "outputId": "22599396-7c1f-461e-d6ab-75e84d329508"
      },
      "execution_count": null,
      "outputs": [
        {
          "output_type": "execute_result",
          "data": {
            "text/plain": [
              "   mean radius  mean texture  mean perimeter  mean area  mean smoothness  \\\n",
              "0        17.99         10.38          122.80     1001.0          0.11840   \n",
              "1        20.57         17.77          132.90     1326.0          0.08474   \n",
              "2        19.69         21.25          130.00     1203.0          0.10960   \n",
              "3        11.42         20.38           77.58      386.1          0.14250   \n",
              "4        20.29         14.34          135.10     1297.0          0.10030   \n",
              "\n",
              "   mean compactness  mean concavity  mean concave points  mean symmetry  \\\n",
              "0           0.27760          0.3001              0.14710         0.2419   \n",
              "1           0.07864          0.0869              0.07017         0.1812   \n",
              "2           0.15990          0.1974              0.12790         0.2069   \n",
              "3           0.28390          0.2414              0.10520         0.2597   \n",
              "4           0.13280          0.1980              0.10430         0.1809   \n",
              "\n",
              "   mean fractal dimension  ...  worst texture  worst perimeter  worst area  \\\n",
              "0                 0.07871  ...          17.33           184.60      2019.0   \n",
              "1                 0.05667  ...          23.41           158.80      1956.0   \n",
              "2                 0.05999  ...          25.53           152.50      1709.0   \n",
              "3                 0.09744  ...          26.50            98.87       567.7   \n",
              "4                 0.05883  ...          16.67           152.20      1575.0   \n",
              "\n",
              "   worst smoothness  worst compactness  worst concavity  worst concave points  \\\n",
              "0            0.1622             0.6656           0.7119                0.2654   \n",
              "1            0.1238             0.1866           0.2416                0.1860   \n",
              "2            0.1444             0.4245           0.4504                0.2430   \n",
              "3            0.2098             0.8663           0.6869                0.2575   \n",
              "4            0.1374             0.2050           0.4000                0.1625   \n",
              "\n",
              "   worst symmetry  worst fractal dimension  target  \n",
              "0          0.4601                  0.11890       0  \n",
              "1          0.2750                  0.08902       0  \n",
              "2          0.3613                  0.08758       0  \n",
              "3          0.6638                  0.17300       0  \n",
              "4          0.2364                  0.07678       0  \n",
              "\n",
              "[5 rows x 31 columns]"
            ],
            "text/html": [
              "\n",
              "  <div id=\"df-f7448a67-feed-4316-8b9f-3af1f19f4f8f\">\n",
              "    <div class=\"colab-df-container\">\n",
              "      <div>\n",
              "<style scoped>\n",
              "    .dataframe tbody tr th:only-of-type {\n",
              "        vertical-align: middle;\n",
              "    }\n",
              "\n",
              "    .dataframe tbody tr th {\n",
              "        vertical-align: top;\n",
              "    }\n",
              "\n",
              "    .dataframe thead th {\n",
              "        text-align: right;\n",
              "    }\n",
              "</style>\n",
              "<table border=\"1\" class=\"dataframe\">\n",
              "  <thead>\n",
              "    <tr style=\"text-align: right;\">\n",
              "      <th></th>\n",
              "      <th>mean radius</th>\n",
              "      <th>mean texture</th>\n",
              "      <th>mean perimeter</th>\n",
              "      <th>mean area</th>\n",
              "      <th>mean smoothness</th>\n",
              "      <th>mean compactness</th>\n",
              "      <th>mean concavity</th>\n",
              "      <th>mean concave points</th>\n",
              "      <th>mean symmetry</th>\n",
              "      <th>mean fractal dimension</th>\n",
              "      <th>...</th>\n",
              "      <th>worst texture</th>\n",
              "      <th>worst perimeter</th>\n",
              "      <th>worst area</th>\n",
              "      <th>worst smoothness</th>\n",
              "      <th>worst compactness</th>\n",
              "      <th>worst concavity</th>\n",
              "      <th>worst concave points</th>\n",
              "      <th>worst symmetry</th>\n",
              "      <th>worst fractal dimension</th>\n",
              "      <th>target</th>\n",
              "    </tr>\n",
              "  </thead>\n",
              "  <tbody>\n",
              "    <tr>\n",
              "      <th>0</th>\n",
              "      <td>17.99</td>\n",
              "      <td>10.38</td>\n",
              "      <td>122.80</td>\n",
              "      <td>1001.0</td>\n",
              "      <td>0.11840</td>\n",
              "      <td>0.27760</td>\n",
              "      <td>0.3001</td>\n",
              "      <td>0.14710</td>\n",
              "      <td>0.2419</td>\n",
              "      <td>0.07871</td>\n",
              "      <td>...</td>\n",
              "      <td>17.33</td>\n",
              "      <td>184.60</td>\n",
              "      <td>2019.0</td>\n",
              "      <td>0.1622</td>\n",
              "      <td>0.6656</td>\n",
              "      <td>0.7119</td>\n",
              "      <td>0.2654</td>\n",
              "      <td>0.4601</td>\n",
              "      <td>0.11890</td>\n",
              "      <td>0</td>\n",
              "    </tr>\n",
              "    <tr>\n",
              "      <th>1</th>\n",
              "      <td>20.57</td>\n",
              "      <td>17.77</td>\n",
              "      <td>132.90</td>\n",
              "      <td>1326.0</td>\n",
              "      <td>0.08474</td>\n",
              "      <td>0.07864</td>\n",
              "      <td>0.0869</td>\n",
              "      <td>0.07017</td>\n",
              "      <td>0.1812</td>\n",
              "      <td>0.05667</td>\n",
              "      <td>...</td>\n",
              "      <td>23.41</td>\n",
              "      <td>158.80</td>\n",
              "      <td>1956.0</td>\n",
              "      <td>0.1238</td>\n",
              "      <td>0.1866</td>\n",
              "      <td>0.2416</td>\n",
              "      <td>0.1860</td>\n",
              "      <td>0.2750</td>\n",
              "      <td>0.08902</td>\n",
              "      <td>0</td>\n",
              "    </tr>\n",
              "    <tr>\n",
              "      <th>2</th>\n",
              "      <td>19.69</td>\n",
              "      <td>21.25</td>\n",
              "      <td>130.00</td>\n",
              "      <td>1203.0</td>\n",
              "      <td>0.10960</td>\n",
              "      <td>0.15990</td>\n",
              "      <td>0.1974</td>\n",
              "      <td>0.12790</td>\n",
              "      <td>0.2069</td>\n",
              "      <td>0.05999</td>\n",
              "      <td>...</td>\n",
              "      <td>25.53</td>\n",
              "      <td>152.50</td>\n",
              "      <td>1709.0</td>\n",
              "      <td>0.1444</td>\n",
              "      <td>0.4245</td>\n",
              "      <td>0.4504</td>\n",
              "      <td>0.2430</td>\n",
              "      <td>0.3613</td>\n",
              "      <td>0.08758</td>\n",
              "      <td>0</td>\n",
              "    </tr>\n",
              "    <tr>\n",
              "      <th>3</th>\n",
              "      <td>11.42</td>\n",
              "      <td>20.38</td>\n",
              "      <td>77.58</td>\n",
              "      <td>386.1</td>\n",
              "      <td>0.14250</td>\n",
              "      <td>0.28390</td>\n",
              "      <td>0.2414</td>\n",
              "      <td>0.10520</td>\n",
              "      <td>0.2597</td>\n",
              "      <td>0.09744</td>\n",
              "      <td>...</td>\n",
              "      <td>26.50</td>\n",
              "      <td>98.87</td>\n",
              "      <td>567.7</td>\n",
              "      <td>0.2098</td>\n",
              "      <td>0.8663</td>\n",
              "      <td>0.6869</td>\n",
              "      <td>0.2575</td>\n",
              "      <td>0.6638</td>\n",
              "      <td>0.17300</td>\n",
              "      <td>0</td>\n",
              "    </tr>\n",
              "    <tr>\n",
              "      <th>4</th>\n",
              "      <td>20.29</td>\n",
              "      <td>14.34</td>\n",
              "      <td>135.10</td>\n",
              "      <td>1297.0</td>\n",
              "      <td>0.10030</td>\n",
              "      <td>0.13280</td>\n",
              "      <td>0.1980</td>\n",
              "      <td>0.10430</td>\n",
              "      <td>0.1809</td>\n",
              "      <td>0.05883</td>\n",
              "      <td>...</td>\n",
              "      <td>16.67</td>\n",
              "      <td>152.20</td>\n",
              "      <td>1575.0</td>\n",
              "      <td>0.1374</td>\n",
              "      <td>0.2050</td>\n",
              "      <td>0.4000</td>\n",
              "      <td>0.1625</td>\n",
              "      <td>0.2364</td>\n",
              "      <td>0.07678</td>\n",
              "      <td>0</td>\n",
              "    </tr>\n",
              "  </tbody>\n",
              "</table>\n",
              "<p>5 rows × 31 columns</p>\n",
              "</div>\n",
              "      <button class=\"colab-df-convert\" onclick=\"convertToInteractive('df-f7448a67-feed-4316-8b9f-3af1f19f4f8f')\"\n",
              "              title=\"Convert this dataframe to an interactive table.\"\n",
              "              style=\"display:none;\">\n",
              "        \n",
              "  <svg xmlns=\"http://www.w3.org/2000/svg\" height=\"24px\"viewBox=\"0 0 24 24\"\n",
              "       width=\"24px\">\n",
              "    <path d=\"M0 0h24v24H0V0z\" fill=\"none\"/>\n",
              "    <path d=\"M18.56 5.44l.94 2.06.94-2.06 2.06-.94-2.06-.94-.94-2.06-.94 2.06-2.06.94zm-11 1L8.5 8.5l.94-2.06 2.06-.94-2.06-.94L8.5 2.5l-.94 2.06-2.06.94zm10 10l.94 2.06.94-2.06 2.06-.94-2.06-.94-.94-2.06-.94 2.06-2.06.94z\"/><path d=\"M17.41 7.96l-1.37-1.37c-.4-.4-.92-.59-1.43-.59-.52 0-1.04.2-1.43.59L10.3 9.45l-7.72 7.72c-.78.78-.78 2.05 0 2.83L4 21.41c.39.39.9.59 1.41.59.51 0 1.02-.2 1.41-.59l7.78-7.78 2.81-2.81c.8-.78.8-2.07 0-2.86zM5.41 20L4 18.59l7.72-7.72 1.47 1.35L5.41 20z\"/>\n",
              "  </svg>\n",
              "      </button>\n",
              "      \n",
              "  <style>\n",
              "    .colab-df-container {\n",
              "      display:flex;\n",
              "      flex-wrap:wrap;\n",
              "      gap: 12px;\n",
              "    }\n",
              "\n",
              "    .colab-df-convert {\n",
              "      background-color: #E8F0FE;\n",
              "      border: none;\n",
              "      border-radius: 50%;\n",
              "      cursor: pointer;\n",
              "      display: none;\n",
              "      fill: #1967D2;\n",
              "      height: 32px;\n",
              "      padding: 0 0 0 0;\n",
              "      width: 32px;\n",
              "    }\n",
              "\n",
              "    .colab-df-convert:hover {\n",
              "      background-color: #E2EBFA;\n",
              "      box-shadow: 0px 1px 2px rgba(60, 64, 67, 0.3), 0px 1px 3px 1px rgba(60, 64, 67, 0.15);\n",
              "      fill: #174EA6;\n",
              "    }\n",
              "\n",
              "    [theme=dark] .colab-df-convert {\n",
              "      background-color: #3B4455;\n",
              "      fill: #D2E3FC;\n",
              "    }\n",
              "\n",
              "    [theme=dark] .colab-df-convert:hover {\n",
              "      background-color: #434B5C;\n",
              "      box-shadow: 0px 1px 3px 1px rgba(0, 0, 0, 0.15);\n",
              "      filter: drop-shadow(0px 1px 2px rgba(0, 0, 0, 0.3));\n",
              "      fill: #FFFFFF;\n",
              "    }\n",
              "  </style>\n",
              "\n",
              "      <script>\n",
              "        const buttonEl =\n",
              "          document.querySelector('#df-f7448a67-feed-4316-8b9f-3af1f19f4f8f button.colab-df-convert');\n",
              "        buttonEl.style.display =\n",
              "          google.colab.kernel.accessAllowed ? 'block' : 'none';\n",
              "\n",
              "        async function convertToInteractive(key) {\n",
              "          const element = document.querySelector('#df-f7448a67-feed-4316-8b9f-3af1f19f4f8f');\n",
              "          const dataTable =\n",
              "            await google.colab.kernel.invokeFunction('convertToInteractive',\n",
              "                                                     [key], {});\n",
              "          if (!dataTable) return;\n",
              "\n",
              "          const docLinkHtml = 'Like what you see? Visit the ' +\n",
              "            '<a target=\"_blank\" href=https://colab.research.google.com/notebooks/data_table.ipynb>data table notebook</a>'\n",
              "            + ' to learn more about interactive tables.';\n",
              "          element.innerHTML = '';\n",
              "          dataTable['output_type'] = 'display_data';\n",
              "          await google.colab.output.renderOutput(dataTable, element);\n",
              "          const docLink = document.createElement('div');\n",
              "          docLink.innerHTML = docLinkHtml;\n",
              "          element.appendChild(docLink);\n",
              "        }\n",
              "      </script>\n",
              "    </div>\n",
              "  </div>\n",
              "  "
            ]
          },
          "metadata": {},
          "execution_count": 6
        }
      ]
    },
    {
      "cell_type": "code",
      "source": [
        "data1['target'].value_counts()"
      ],
      "metadata": {
        "colab": {
          "base_uri": "https://localhost:8080/"
        },
        "id": "G6kpF4P_pM0_",
        "outputId": "9229d228-84d7-4afd-f852-a0d143976ea0"
      },
      "execution_count": null,
      "outputs": [
        {
          "output_type": "execute_result",
          "data": {
            "text/plain": [
              "1    357\n",
              "0    212\n",
              "Name: target, dtype: int64"
            ]
          },
          "metadata": {},
          "execution_count": 7
        }
      ]
    },
    {
      "cell_type": "code",
      "source": [
        "X = data1.iloc[:,:-1]"
      ],
      "metadata": {
        "id": "Kpy5fxJApaQK"
      },
      "execution_count": null,
      "outputs": []
    },
    {
      "cell_type": "code",
      "source": [
        "X.head()"
      ],
      "metadata": {
        "colab": {
          "base_uri": "https://localhost:8080/",
          "height": 334
        },
        "id": "b5OEB6LzpflY",
        "outputId": "1cdbc438-4deb-4057-94b4-d3481726e08e"
      },
      "execution_count": null,
      "outputs": [
        {
          "output_type": "execute_result",
          "data": {
            "text/plain": [
              "   mean radius  mean texture  mean perimeter  mean area  mean smoothness  \\\n",
              "0        17.99         10.38          122.80     1001.0          0.11840   \n",
              "1        20.57         17.77          132.90     1326.0          0.08474   \n",
              "2        19.69         21.25          130.00     1203.0          0.10960   \n",
              "3        11.42         20.38           77.58      386.1          0.14250   \n",
              "4        20.29         14.34          135.10     1297.0          0.10030   \n",
              "\n",
              "   mean compactness  mean concavity  mean concave points  mean symmetry  \\\n",
              "0           0.27760          0.3001              0.14710         0.2419   \n",
              "1           0.07864          0.0869              0.07017         0.1812   \n",
              "2           0.15990          0.1974              0.12790         0.2069   \n",
              "3           0.28390          0.2414              0.10520         0.2597   \n",
              "4           0.13280          0.1980              0.10430         0.1809   \n",
              "\n",
              "   mean fractal dimension  ...  worst radius  worst texture  worst perimeter  \\\n",
              "0                 0.07871  ...         25.38          17.33           184.60   \n",
              "1                 0.05667  ...         24.99          23.41           158.80   \n",
              "2                 0.05999  ...         23.57          25.53           152.50   \n",
              "3                 0.09744  ...         14.91          26.50            98.87   \n",
              "4                 0.05883  ...         22.54          16.67           152.20   \n",
              "\n",
              "   worst area  worst smoothness  worst compactness  worst concavity  \\\n",
              "0      2019.0            0.1622             0.6656           0.7119   \n",
              "1      1956.0            0.1238             0.1866           0.2416   \n",
              "2      1709.0            0.1444             0.4245           0.4504   \n",
              "3       567.7            0.2098             0.8663           0.6869   \n",
              "4      1575.0            0.1374             0.2050           0.4000   \n",
              "\n",
              "   worst concave points  worst symmetry  worst fractal dimension  \n",
              "0                0.2654          0.4601                  0.11890  \n",
              "1                0.1860          0.2750                  0.08902  \n",
              "2                0.2430          0.3613                  0.08758  \n",
              "3                0.2575          0.6638                  0.17300  \n",
              "4                0.1625          0.2364                  0.07678  \n",
              "\n",
              "[5 rows x 30 columns]"
            ],
            "text/html": [
              "\n",
              "  <div id=\"df-c96758d3-8b1d-4b00-ae1e-13569ade3730\">\n",
              "    <div class=\"colab-df-container\">\n",
              "      <div>\n",
              "<style scoped>\n",
              "    .dataframe tbody tr th:only-of-type {\n",
              "        vertical-align: middle;\n",
              "    }\n",
              "\n",
              "    .dataframe tbody tr th {\n",
              "        vertical-align: top;\n",
              "    }\n",
              "\n",
              "    .dataframe thead th {\n",
              "        text-align: right;\n",
              "    }\n",
              "</style>\n",
              "<table border=\"1\" class=\"dataframe\">\n",
              "  <thead>\n",
              "    <tr style=\"text-align: right;\">\n",
              "      <th></th>\n",
              "      <th>mean radius</th>\n",
              "      <th>mean texture</th>\n",
              "      <th>mean perimeter</th>\n",
              "      <th>mean area</th>\n",
              "      <th>mean smoothness</th>\n",
              "      <th>mean compactness</th>\n",
              "      <th>mean concavity</th>\n",
              "      <th>mean concave points</th>\n",
              "      <th>mean symmetry</th>\n",
              "      <th>mean fractal dimension</th>\n",
              "      <th>...</th>\n",
              "      <th>worst radius</th>\n",
              "      <th>worst texture</th>\n",
              "      <th>worst perimeter</th>\n",
              "      <th>worst area</th>\n",
              "      <th>worst smoothness</th>\n",
              "      <th>worst compactness</th>\n",
              "      <th>worst concavity</th>\n",
              "      <th>worst concave points</th>\n",
              "      <th>worst symmetry</th>\n",
              "      <th>worst fractal dimension</th>\n",
              "    </tr>\n",
              "  </thead>\n",
              "  <tbody>\n",
              "    <tr>\n",
              "      <th>0</th>\n",
              "      <td>17.99</td>\n",
              "      <td>10.38</td>\n",
              "      <td>122.80</td>\n",
              "      <td>1001.0</td>\n",
              "      <td>0.11840</td>\n",
              "      <td>0.27760</td>\n",
              "      <td>0.3001</td>\n",
              "      <td>0.14710</td>\n",
              "      <td>0.2419</td>\n",
              "      <td>0.07871</td>\n",
              "      <td>...</td>\n",
              "      <td>25.38</td>\n",
              "      <td>17.33</td>\n",
              "      <td>184.60</td>\n",
              "      <td>2019.0</td>\n",
              "      <td>0.1622</td>\n",
              "      <td>0.6656</td>\n",
              "      <td>0.7119</td>\n",
              "      <td>0.2654</td>\n",
              "      <td>0.4601</td>\n",
              "      <td>0.11890</td>\n",
              "    </tr>\n",
              "    <tr>\n",
              "      <th>1</th>\n",
              "      <td>20.57</td>\n",
              "      <td>17.77</td>\n",
              "      <td>132.90</td>\n",
              "      <td>1326.0</td>\n",
              "      <td>0.08474</td>\n",
              "      <td>0.07864</td>\n",
              "      <td>0.0869</td>\n",
              "      <td>0.07017</td>\n",
              "      <td>0.1812</td>\n",
              "      <td>0.05667</td>\n",
              "      <td>...</td>\n",
              "      <td>24.99</td>\n",
              "      <td>23.41</td>\n",
              "      <td>158.80</td>\n",
              "      <td>1956.0</td>\n",
              "      <td>0.1238</td>\n",
              "      <td>0.1866</td>\n",
              "      <td>0.2416</td>\n",
              "      <td>0.1860</td>\n",
              "      <td>0.2750</td>\n",
              "      <td>0.08902</td>\n",
              "    </tr>\n",
              "    <tr>\n",
              "      <th>2</th>\n",
              "      <td>19.69</td>\n",
              "      <td>21.25</td>\n",
              "      <td>130.00</td>\n",
              "      <td>1203.0</td>\n",
              "      <td>0.10960</td>\n",
              "      <td>0.15990</td>\n",
              "      <td>0.1974</td>\n",
              "      <td>0.12790</td>\n",
              "      <td>0.2069</td>\n",
              "      <td>0.05999</td>\n",
              "      <td>...</td>\n",
              "      <td>23.57</td>\n",
              "      <td>25.53</td>\n",
              "      <td>152.50</td>\n",
              "      <td>1709.0</td>\n",
              "      <td>0.1444</td>\n",
              "      <td>0.4245</td>\n",
              "      <td>0.4504</td>\n",
              "      <td>0.2430</td>\n",
              "      <td>0.3613</td>\n",
              "      <td>0.08758</td>\n",
              "    </tr>\n",
              "    <tr>\n",
              "      <th>3</th>\n",
              "      <td>11.42</td>\n",
              "      <td>20.38</td>\n",
              "      <td>77.58</td>\n",
              "      <td>386.1</td>\n",
              "      <td>0.14250</td>\n",
              "      <td>0.28390</td>\n",
              "      <td>0.2414</td>\n",
              "      <td>0.10520</td>\n",
              "      <td>0.2597</td>\n",
              "      <td>0.09744</td>\n",
              "      <td>...</td>\n",
              "      <td>14.91</td>\n",
              "      <td>26.50</td>\n",
              "      <td>98.87</td>\n",
              "      <td>567.7</td>\n",
              "      <td>0.2098</td>\n",
              "      <td>0.8663</td>\n",
              "      <td>0.6869</td>\n",
              "      <td>0.2575</td>\n",
              "      <td>0.6638</td>\n",
              "      <td>0.17300</td>\n",
              "    </tr>\n",
              "    <tr>\n",
              "      <th>4</th>\n",
              "      <td>20.29</td>\n",
              "      <td>14.34</td>\n",
              "      <td>135.10</td>\n",
              "      <td>1297.0</td>\n",
              "      <td>0.10030</td>\n",
              "      <td>0.13280</td>\n",
              "      <td>0.1980</td>\n",
              "      <td>0.10430</td>\n",
              "      <td>0.1809</td>\n",
              "      <td>0.05883</td>\n",
              "      <td>...</td>\n",
              "      <td>22.54</td>\n",
              "      <td>16.67</td>\n",
              "      <td>152.20</td>\n",
              "      <td>1575.0</td>\n",
              "      <td>0.1374</td>\n",
              "      <td>0.2050</td>\n",
              "      <td>0.4000</td>\n",
              "      <td>0.1625</td>\n",
              "      <td>0.2364</td>\n",
              "      <td>0.07678</td>\n",
              "    </tr>\n",
              "  </tbody>\n",
              "</table>\n",
              "<p>5 rows × 30 columns</p>\n",
              "</div>\n",
              "      <button class=\"colab-df-convert\" onclick=\"convertToInteractive('df-c96758d3-8b1d-4b00-ae1e-13569ade3730')\"\n",
              "              title=\"Convert this dataframe to an interactive table.\"\n",
              "              style=\"display:none;\">\n",
              "        \n",
              "  <svg xmlns=\"http://www.w3.org/2000/svg\" height=\"24px\"viewBox=\"0 0 24 24\"\n",
              "       width=\"24px\">\n",
              "    <path d=\"M0 0h24v24H0V0z\" fill=\"none\"/>\n",
              "    <path d=\"M18.56 5.44l.94 2.06.94-2.06 2.06-.94-2.06-.94-.94-2.06-.94 2.06-2.06.94zm-11 1L8.5 8.5l.94-2.06 2.06-.94-2.06-.94L8.5 2.5l-.94 2.06-2.06.94zm10 10l.94 2.06.94-2.06 2.06-.94-2.06-.94-.94-2.06-.94 2.06-2.06.94z\"/><path d=\"M17.41 7.96l-1.37-1.37c-.4-.4-.92-.59-1.43-.59-.52 0-1.04.2-1.43.59L10.3 9.45l-7.72 7.72c-.78.78-.78 2.05 0 2.83L4 21.41c.39.39.9.59 1.41.59.51 0 1.02-.2 1.41-.59l7.78-7.78 2.81-2.81c.8-.78.8-2.07 0-2.86zM5.41 20L4 18.59l7.72-7.72 1.47 1.35L5.41 20z\"/>\n",
              "  </svg>\n",
              "      </button>\n",
              "      \n",
              "  <style>\n",
              "    .colab-df-container {\n",
              "      display:flex;\n",
              "      flex-wrap:wrap;\n",
              "      gap: 12px;\n",
              "    }\n",
              "\n",
              "    .colab-df-convert {\n",
              "      background-color: #E8F0FE;\n",
              "      border: none;\n",
              "      border-radius: 50%;\n",
              "      cursor: pointer;\n",
              "      display: none;\n",
              "      fill: #1967D2;\n",
              "      height: 32px;\n",
              "      padding: 0 0 0 0;\n",
              "      width: 32px;\n",
              "    }\n",
              "\n",
              "    .colab-df-convert:hover {\n",
              "      background-color: #E2EBFA;\n",
              "      box-shadow: 0px 1px 2px rgba(60, 64, 67, 0.3), 0px 1px 3px 1px rgba(60, 64, 67, 0.15);\n",
              "      fill: #174EA6;\n",
              "    }\n",
              "\n",
              "    [theme=dark] .colab-df-convert {\n",
              "      background-color: #3B4455;\n",
              "      fill: #D2E3FC;\n",
              "    }\n",
              "\n",
              "    [theme=dark] .colab-df-convert:hover {\n",
              "      background-color: #434B5C;\n",
              "      box-shadow: 0px 1px 3px 1px rgba(0, 0, 0, 0.15);\n",
              "      filter: drop-shadow(0px 1px 2px rgba(0, 0, 0, 0.3));\n",
              "      fill: #FFFFFF;\n",
              "    }\n",
              "  </style>\n",
              "\n",
              "      <script>\n",
              "        const buttonEl =\n",
              "          document.querySelector('#df-c96758d3-8b1d-4b00-ae1e-13569ade3730 button.colab-df-convert');\n",
              "        buttonEl.style.display =\n",
              "          google.colab.kernel.accessAllowed ? 'block' : 'none';\n",
              "\n",
              "        async function convertToInteractive(key) {\n",
              "          const element = document.querySelector('#df-c96758d3-8b1d-4b00-ae1e-13569ade3730');\n",
              "          const dataTable =\n",
              "            await google.colab.kernel.invokeFunction('convertToInteractive',\n",
              "                                                     [key], {});\n",
              "          if (!dataTable) return;\n",
              "\n",
              "          const docLinkHtml = 'Like what you see? Visit the ' +\n",
              "            '<a target=\"_blank\" href=https://colab.research.google.com/notebooks/data_table.ipynb>data table notebook</a>'\n",
              "            + ' to learn more about interactive tables.';\n",
              "          element.innerHTML = '';\n",
              "          dataTable['output_type'] = 'display_data';\n",
              "          await google.colab.output.renderOutput(dataTable, element);\n",
              "          const docLink = document.createElement('div');\n",
              "          docLink.innerHTML = docLinkHtml;\n",
              "          element.appendChild(docLink);\n",
              "        }\n",
              "      </script>\n",
              "    </div>\n",
              "  </div>\n",
              "  "
            ]
          },
          "metadata": {},
          "execution_count": 9
        }
      ]
    },
    {
      "cell_type": "code",
      "source": [
        "y = data1.iloc[:,-1]"
      ],
      "metadata": {
        "id": "81hvX5zVpgni"
      },
      "execution_count": null,
      "outputs": []
    },
    {
      "cell_type": "code",
      "source": [
        "y.head()"
      ],
      "metadata": {
        "colab": {
          "base_uri": "https://localhost:8080/"
        },
        "id": "tzTkf2hSpmYt",
        "outputId": "4b1b791d-e06b-4581-b20a-d4b177ef0d03"
      },
      "execution_count": null,
      "outputs": [
        {
          "output_type": "execute_result",
          "data": {
            "text/plain": [
              "0    0\n",
              "1    0\n",
              "2    0\n",
              "3    0\n",
              "4    0\n",
              "Name: target, dtype: int64"
            ]
          },
          "metadata": {},
          "execution_count": 11
        }
      ]
    },
    {
      "cell_type": "code",
      "source": [
        "X = torch.tensor(X.values).type(torch.float)\n",
        "y = torch.tensor(y.values).type(torch.float)"
      ],
      "metadata": {
        "id": "JTMjmEwfpnXH"
      },
      "execution_count": null,
      "outputs": []
    },
    {
      "cell_type": "code",
      "source": [
        "print(f\"X shape: {X.shape}\")\n",
        "print(f\"y shape: {y.shape}\")"
      ],
      "metadata": {
        "colab": {
          "base_uri": "https://localhost:8080/"
        },
        "id": "GJyDC0lBtyec",
        "outputId": "899c97f3-ae79-400d-9cfb-cb352a378487"
      },
      "execution_count": null,
      "outputs": [
        {
          "output_type": "stream",
          "name": "stdout",
          "text": [
            "X shape: torch.Size([569, 30])\n",
            "y shape: torch.Size([569])\n"
          ]
        }
      ]
    },
    {
      "cell_type": "code",
      "source": [
        "from sklearn.model_selection import train_test_split"
      ],
      "metadata": {
        "id": "fh_Z5I9MtzjD"
      },
      "execution_count": null,
      "outputs": []
    },
    {
      "cell_type": "code",
      "source": [
        "X_train, X_test, y_train, y_test = train_test_split(X, y, test_size=0.3, random_state=42)"
      ],
      "metadata": {
        "id": "9OB8J5hkuBQk"
      },
      "execution_count": null,
      "outputs": []
    },
    {
      "cell_type": "code",
      "source": [
        "print(f\"X train shape: {X_train.shape}\")\n",
        "print(f\"X test shape: {X_test.shape}\")\n",
        "print(f\"y train shape: {y_train.shape}\")\n",
        "print(f\"y test shape: {y_test.shape}\")"
      ],
      "metadata": {
        "colab": {
          "base_uri": "https://localhost:8080/"
        },
        "id": "Cona-6KduHdA",
        "outputId": "16d2a957-ccac-4dd2-92b7-41f67c0f3148"
      },
      "execution_count": null,
      "outputs": [
        {
          "output_type": "stream",
          "name": "stdout",
          "text": [
            "X train shape: torch.Size([398, 30])\n",
            "X test shape: torch.Size([171, 30])\n",
            "y train shape: torch.Size([398])\n",
            "y test shape: torch.Size([171])\n"
          ]
        }
      ]
    },
    {
      "cell_type": "code",
      "source": [
        "class BreastModel(nn.Module):\n",
        "  def __init__(self):\n",
        "    super().__init__()\n",
        "\n",
        "    self.layer_1 = nn.Linear(in_features=5, out_features=8)\n",
        "    self.layer_2 = nn.Linear(in_features=8, out_features=1)\n",
        "\n",
        "  def forward(self, x):\n",
        "    return self.layer_2(self.layer_1(x))\n",
        "\n",
        "model_1 = BreastModel()\n",
        "model_1"
      ],
      "metadata": {
        "colab": {
          "base_uri": "https://localhost:8080/"
        },
        "id": "4-jQEmkzuJtH",
        "outputId": "06eeecc5-5981-49d2-ff3c-620bc273f69e"
      },
      "execution_count": null,
      "outputs": [
        {
          "output_type": "execute_result",
          "data": {
            "text/plain": [
              "BreastModel(\n",
              "  (layer_1): Linear(in_features=5, out_features=8, bias=True)\n",
              "  (layer_2): Linear(in_features=8, out_features=1, bias=True)\n",
              ")"
            ]
          },
          "metadata": {},
          "execution_count": 17
        }
      ]
    },
    {
      "cell_type": "code",
      "source": [
        "model_1 = nn.Sequential(\n",
        "    nn.Linear(in_features=5, out_features=8),\n",
        "    nn.Linear(in_features=8, out_features=1)\n",
        ")\n",
        "\n",
        "model_1"
      ],
      "metadata": {
        "colab": {
          "base_uri": "https://localhost:8080/"
        },
        "id": "_mxUi9Wyz66N",
        "outputId": "5e788789-0444-4360-acc4-1d00baf2412b"
      },
      "execution_count": null,
      "outputs": [
        {
          "output_type": "execute_result",
          "data": {
            "text/plain": [
              "Sequential(\n",
              "  (0): Linear(in_features=5, out_features=8, bias=True)\n",
              "  (1): Linear(in_features=8, out_features=1, bias=True)\n",
              ")"
            ]
          },
          "metadata": {},
          "execution_count": 18
        }
      ]
    },
    {
      "cell_type": "code",
      "source": [
        "loss_fn = nn.BCEWithLogitsLoss()\n",
        "\n",
        "optimizer = torch.optim.SGD(params=model_2.parameters(), lr=0.1)"
      ],
      "metadata": {
        "id": "bOUH2dGd0gfr"
      },
      "execution_count": null,
      "outputs": []
    },
    {
      "cell_type": "code",
      "source": [
        "def accuracy_fn(y_true, y_pred):\n",
        "  correct = torch.eq(y_true, y_pred).sum().item()\n",
        "  acc = (correct / len(y_pred)) * 100\n",
        "  return acc"
      ],
      "metadata": {
        "id": "AVkTz62a15vg"
      },
      "execution_count": null,
      "outputs": []
    },
    {
      "cell_type": "code",
      "source": [
        "X_train[:1]"
      ],
      "metadata": {
        "id": "vgFASjBY28bn",
        "colab": {
          "base_uri": "https://localhost:8080/"
        },
        "outputId": "25170106-10e7-4a9c-b924-6b82be7f6694"
      },
      "execution_count": null,
      "outputs": [
        {
          "output_type": "execute_result",
          "data": {
            "text/plain": [
              "tensor([[1.3740e+01, 1.7910e+01, 8.8120e+01, 5.8500e+02, 7.9440e-02, 6.3760e-02,\n",
              "         2.8810e-02, 1.3290e-02, 1.4730e-01, 5.5800e-02, 2.5000e-01, 7.5740e-01,\n",
              "         1.5730e+00, 2.1470e+01, 2.8380e-03, 1.5920e-02, 1.7800e-02, 5.8280e-03,\n",
              "         1.3290e-02, 1.9760e-03, 1.5340e+01, 2.2460e+01, 9.7190e+01, 7.2590e+02,\n",
              "         9.7110e-02, 1.8240e-01, 1.5640e-01, 6.0190e-02, 2.3500e-01, 7.0140e-02]])"
            ]
          },
          "metadata": {},
          "execution_count": 23
        }
      ]
    },
    {
      "cell_type": "code",
      "source": [
        "class BreastCancerClassification(nn.Module):\n",
        "  def __init__(self):\n",
        "    super().__init__()\n",
        "\n",
        "    self.layer_1 = nn.Linear(in_features=30, out_features=128)\n",
        "    self.layer_2 = nn.Linear(in_features=128, out_features=128)\n",
        "    self.layer_3 = nn.Linear(in_features=128, out_features=1)\n",
        "\n",
        "  def forward(self, x):\n",
        "    return self.layer_3(self.layer_2(self.layer_1(x)))\n",
        "\n",
        "model_2 = BreastCancerClassification()\n",
        "\n",
        "model_2"
      ],
      "metadata": {
        "colab": {
          "base_uri": "https://localhost:8080/"
        },
        "id": "wpkySagResRG",
        "outputId": "43665de9-31c2-4b30-ff2f-c9d617b61ea9"
      },
      "execution_count": null,
      "outputs": [
        {
          "output_type": "execute_result",
          "data": {
            "text/plain": [
              "BreastCancerClassification(\n",
              "  (layer_1): Linear(in_features=30, out_features=128, bias=True)\n",
              "  (layer_2): Linear(in_features=128, out_features=128, bias=True)\n",
              "  (layer_3): Linear(in_features=128, out_features=1, bias=True)\n",
              ")"
            ]
          },
          "metadata": {},
          "execution_count": 24
        }
      ]
    },
    {
      "cell_type": "code",
      "source": [],
      "metadata": {
        "id": "OXZ-KdoOhvvE"
      },
      "execution_count": null,
      "outputs": []
    },
    {
      "cell_type": "code",
      "source": [
        "model_2.state_dict()"
      ],
      "metadata": {
        "colab": {
          "base_uri": "https://localhost:8080/"
        },
        "id": "2DIwrTWlhvrG",
        "outputId": "c3388eac-f3bb-410b-8e34-1c7c993d0531"
      },
      "execution_count": null,
      "outputs": [
        {
          "output_type": "execute_result",
          "data": {
            "text/plain": [
              "OrderedDict([('0.weight',\n",
              "              tensor([[ 0.0300, -0.1220,  0.0225,  ..., -0.1515, -0.0339, -0.1151],\n",
              "                      [-0.0493, -0.0052,  0.0332,  ...,  0.0420,  0.1643,  0.0776],\n",
              "                      [-0.1291, -0.0618, -0.0327,  ..., -0.0783, -0.1331, -0.0126],\n",
              "                      ...,\n",
              "                      [-0.0698,  0.0250,  0.0918,  ...,  0.1610, -0.0957, -0.0220],\n",
              "                      [-0.1078,  0.1695,  0.1113,  ..., -0.0247,  0.0526, -0.1108],\n",
              "                      [ 0.0045, -0.0944,  0.0657,  ...,  0.0713, -0.0031, -0.1207]])),\n",
              "             ('0.bias',\n",
              "              tensor([-0.1180, -0.1041,  0.1166, -0.1203,  0.0815, -0.0892,  0.1068,  0.0114,\n",
              "                      -0.1287,  0.0899, -0.0710, -0.0361,  0.1516, -0.0484,  0.1436,  0.0758,\n",
              "                       0.0186, -0.0182,  0.1656,  0.1552,  0.0692, -0.1570, -0.1416,  0.1269,\n",
              "                       0.1171,  0.1780, -0.0936,  0.0377,  0.0983, -0.0743,  0.0866, -0.0036,\n",
              "                       0.1561,  0.1497, -0.0448,  0.0637,  0.1412,  0.1703, -0.1550,  0.1217,\n",
              "                       0.0538,  0.0210, -0.0989,  0.0743,  0.0830, -0.0639,  0.1245, -0.1431,\n",
              "                      -0.1375,  0.0967,  0.0692, -0.1023,  0.0334, -0.1750,  0.0970, -0.0479,\n",
              "                      -0.0009, -0.0143,  0.1732,  0.0436,  0.0790, -0.1468,  0.1780, -0.1488,\n",
              "                      -0.1342,  0.1246,  0.1632,  0.1774,  0.0031,  0.1018,  0.1356,  0.0282,\n",
              "                      -0.0683, -0.0973, -0.0878, -0.0411,  0.0284,  0.1741,  0.1674, -0.1139,\n",
              "                       0.1043, -0.1568, -0.0674, -0.0598,  0.1146,  0.1238,  0.0394,  0.0169,\n",
              "                      -0.0042, -0.0037,  0.1411,  0.0708, -0.0524, -0.1152,  0.1748, -0.0234,\n",
              "                      -0.1787, -0.0795, -0.0618, -0.0552,  0.0794, -0.1361, -0.1326, -0.1329,\n",
              "                      -0.1731,  0.1312,  0.1389, -0.0263,  0.0115, -0.0631,  0.0807,  0.1186,\n",
              "                       0.1246, -0.0605, -0.0920, -0.1469, -0.1748,  0.1147,  0.0676, -0.0352,\n",
              "                      -0.0900, -0.0934, -0.0124,  0.1438,  0.1679, -0.1530, -0.0498,  0.1025])),\n",
              "             ('1.weight',\n",
              "              tensor([[-0.0653, -0.0818, -0.0054,  ...,  0.0525,  0.0101,  0.0184],\n",
              "                      [-0.0770,  0.0440,  0.0322,  ...,  0.0788, -0.0578,  0.0679],\n",
              "                      [-0.0593,  0.0205, -0.0644,  ...,  0.0502,  0.0016, -0.0731],\n",
              "                      ...,\n",
              "                      [ 0.0773, -0.0346, -0.0512,  ...,  0.0218,  0.0245, -0.0815],\n",
              "                      [ 0.0198, -0.0691,  0.0215,  ..., -0.0641,  0.0068,  0.0268],\n",
              "                      [ 0.0527, -0.0811, -0.0442,  ...,  0.0573,  0.0064,  0.0336]])),\n",
              "             ('1.bias',\n",
              "              tensor([ 6.1270e-02, -1.4511e-02, -2.7190e-02,  8.3668e-02,  2.7341e-02,\n",
              "                      -6.4444e-02,  1.3252e-02,  8.8053e-02, -8.1351e-02,  8.9973e-03,\n",
              "                      -3.9244e-02,  5.1797e-02, -5.3779e-02,  6.4703e-02,  4.2161e-02,\n",
              "                       4.3663e-02,  3.7707e-02,  4.5960e-02, -1.3929e-02, -3.7340e-02,\n",
              "                      -4.4717e-02, -3.8140e-03,  1.4420e-02,  6.3430e-02,  2.9658e-02,\n",
              "                      -4.9142e-02,  7.6661e-02, -3.9826e-02, -7.2149e-02, -7.5339e-02,\n",
              "                       7.3505e-02,  9.6609e-03, -2.3959e-02,  5.6813e-02, -8.0570e-02,\n",
              "                      -2.7092e-02,  4.5243e-02,  2.0646e-02,  3.1212e-02, -7.3276e-02,\n",
              "                      -5.2555e-02, -3.3954e-02, -6.5693e-02,  2.8256e-02,  9.5028e-03,\n",
              "                      -6.0441e-02,  6.2189e-02,  1.3195e-02, -6.7736e-02, -8.4659e-02,\n",
              "                       7.8597e-03,  8.7228e-02, -1.9806e-02,  7.4761e-02, -6.5338e-02,\n",
              "                       6.5183e-02, -3.8405e-02, -2.0629e-02, -4.7544e-02, -7.9455e-02,\n",
              "                      -6.1549e-02, -1.4604e-02, -6.2694e-02, -5.8511e-02,  7.6784e-03,\n",
              "                       5.8108e-02, -2.8552e-03, -8.1177e-02, -2.2187e-02,  6.1405e-02,\n",
              "                      -3.4517e-02, -6.6823e-02, -6.2699e-02, -2.5740e-02,  3.2189e-02,\n",
              "                      -5.7535e-02,  7.4289e-03,  1.8926e-02, -2.4119e-03,  5.9792e-02,\n",
              "                       6.8603e-03,  3.3374e-03, -6.9768e-02, -6.4263e-03, -4.2432e-02,\n",
              "                       4.5700e-02,  4.9230e-02,  3.6681e-02, -7.1924e-02,  3.0088e-02,\n",
              "                      -2.9035e-02, -8.1265e-02, -5.1518e-02, -6.2428e-02,  6.6529e-02,\n",
              "                       5.9573e-02,  3.1384e-02, -7.0774e-02,  6.8894e-02,  3.3209e-02,\n",
              "                       4.8165e-02,  4.9467e-02, -7.7947e-03, -6.7193e-02, -7.6068e-03,\n",
              "                      -6.5914e-02, -3.2472e-02,  3.1937e-02, -3.8689e-02,  4.3020e-02,\n",
              "                       5.1619e-02, -3.4982e-02,  2.9824e-02,  7.5322e-02, -3.3455e-03,\n",
              "                       1.1274e-02,  5.3121e-02, -3.0968e-02, -7.0210e-02, -4.4562e-02,\n",
              "                      -4.4649e-02,  6.3385e-02,  9.6593e-03,  3.6562e-06, -7.6208e-02,\n",
              "                      -4.2878e-02,  2.2634e-02,  6.4658e-03])),\n",
              "             ('2.weight',\n",
              "              tensor([[-0.0809,  0.0297,  0.0813,  0.0620, -0.0321, -0.0262,  0.0309, -0.0441,\n",
              "                       -0.0837,  0.0099,  0.0117, -0.0478,  0.0013,  0.0846,  0.0842,  0.0335,\n",
              "                        0.0043, -0.0619,  0.0455,  0.0244, -0.0354,  0.0008, -0.0595, -0.0667,\n",
              "                       -0.0360,  0.0770, -0.0865, -0.0700, -0.0392,  0.0106, -0.0568, -0.0791,\n",
              "                        0.0021, -0.0139, -0.0739, -0.0720, -0.0648,  0.0550, -0.0251, -0.0526,\n",
              "                       -0.0259,  0.0840, -0.0410, -0.0764,  0.0201, -0.0439, -0.0519, -0.0062,\n",
              "                       -0.0501, -0.0860,  0.0419,  0.0110,  0.0593,  0.0377, -0.0019, -0.0460,\n",
              "                        0.0835, -0.0652,  0.0064,  0.0724,  0.0248,  0.0834, -0.0239,  0.0254,\n",
              "                       -0.0044,  0.0851,  0.0118, -0.0732, -0.0730,  0.0564, -0.0839, -0.0465,\n",
              "                       -0.0744, -0.0161,  0.0883,  0.0156,  0.0622, -0.0027,  0.0493,  0.0347,\n",
              "                       -0.0436,  0.0356, -0.0488, -0.0723,  0.0031,  0.0494,  0.0285,  0.0648,\n",
              "                        0.0010, -0.0359, -0.0109, -0.0547,  0.0153, -0.0502, -0.0585, -0.0469,\n",
              "                        0.0621,  0.0123, -0.0846,  0.0750,  0.0160,  0.0568,  0.0020,  0.0461,\n",
              "                        0.0299, -0.0687, -0.0764, -0.0733,  0.0732,  0.0324,  0.0848, -0.0323,\n",
              "                       -0.0194, -0.0672,  0.0173,  0.0081,  0.0815,  0.0320, -0.0498,  0.0223,\n",
              "                       -0.0318, -0.0555,  0.0152,  0.0804, -0.0177, -0.0562, -0.0087,  0.0367]])),\n",
              "             ('2.bias', tensor([0.0855]))])"
            ]
          },
          "metadata": {},
          "execution_count": 26
        }
      ]
    },
    {
      "cell_type": "code",
      "source": [
        "model_2 = nn.Sequential(\n",
        "    nn.Linear(in_features=30, out_features=128),\n",
        "    nn.Linear(in_features=128, out_features=128),\n",
        "    nn.Linear(in_features=128, out_features=1)\n",
        ")\n",
        "\n",
        "model_2"
      ],
      "metadata": {
        "colab": {
          "base_uri": "https://localhost:8080/"
        },
        "id": "mlos86eKfkKt",
        "outputId": "7354c2f9-e301-470d-f8ca-6293f4ec88f5"
      },
      "execution_count": null,
      "outputs": [
        {
          "output_type": "execute_result",
          "data": {
            "text/plain": [
              "Sequential(\n",
              "  (0): Linear(in_features=30, out_features=128, bias=True)\n",
              "  (1): Linear(in_features=128, out_features=128, bias=True)\n",
              "  (2): Linear(in_features=128, out_features=1, bias=True)\n",
              ")"
            ]
          },
          "metadata": {},
          "execution_count": 25
        }
      ]
    },
    {
      "cell_type": "code",
      "source": [
        "epochs = 50\n",
        "\n",
        "for epoch in range(epochs):\n",
        "  model_2.train()\n",
        "\n",
        "  y_logits_2 = model_2(X_train).squeeze()\n",
        "  y_pred_2 = torch.round(torch.sigmoid(y_logits_2))\n",
        "\n",
        "  loss_2 = loss_fn(y_logits_2, y_train)\n",
        "  accuracy_2 = accuracy_fn(y_true=y_train, y_pred=y_pred_2)\n",
        "\n",
        "  optimizer.zero_grad()\n",
        "\n",
        "  loss_2.backward()\n",
        "\n",
        "  optimizer.step()\n",
        "\n",
        "  model_2.eval()\n",
        "  with torch.inference_mode():\n",
        "    test_logits_2 = model_2(X_test).squeeze()\n",
        "    test_pred_2 = torch.round(torch.sigmoid(test_logits_2))\n",
        "\n",
        "    test_loss_2 = loss_fn(test_logits_2, y_test)\n",
        "\n",
        "    test_accuracy_2 = accuracy_fn(y_true=y_test, y_pred=test_pred_2)\n",
        "\n",
        "  if epoch % 10 == 0:\n",
        "    print(f\"Epoch: {epoch} | Train Loss: {loss_2:.5f} | Test Loss: {test_loss_2:.5f} | Accuracy: {accuracy_2:.2f} | Test Accuracy: {test_accuracy_2:.2f}\")"
      ],
      "metadata": {
        "colab": {
          "base_uri": "https://localhost:8080/"
        },
        "id": "NLL6htjuhv9d",
        "outputId": "16cb9f24-1a21-4b3e-a465-f95ccc92247f"
      },
      "execution_count": null,
      "outputs": [
        {
          "output_type": "stream",
          "name": "stdout",
          "text": [
            "Epoch: 0 | Train Loss: 6.84635 | Test Loss: 7.21749 | Accuracy: 62.56 | Test Accuracy: 63.16\n",
            "Epoch: 10 | Train Loss: 6.84635 | Test Loss: 7.21749 | Accuracy: 62.56 | Test Accuracy: 63.16\n",
            "Epoch: 20 | Train Loss: 6.84635 | Test Loss: 7.21749 | Accuracy: 62.56 | Test Accuracy: 63.16\n",
            "Epoch: 30 | Train Loss: 6.84635 | Test Loss: 7.21749 | Accuracy: 62.56 | Test Accuracy: 63.16\n",
            "Epoch: 40 | Train Loss: 6.84635 | Test Loss: 7.21749 | Accuracy: 62.56 | Test Accuracy: 63.16\n"
          ]
        }
      ]
    },
    {
      "cell_type": "code",
      "source": [
        "'''epochs = 100\n",
        "\n",
        "for epoch in range(epochs):\n",
        "  model_1.train()\n",
        "\n",
        "  y_logits_1 = model_1(X_train).squeeze()\n",
        "  y_pred = torch.round(torch.sigmoid(y_logits))\n",
        "\n",
        "  loss = loss_fn(y_logits_1, y_train)\n",
        "  accuracy = accuracy_fn(y_true = y_train, y_pred = y_pred)\n",
        "\n",
        "  optimizer.zero_grad()\n",
        "\n",
        "  loss.backward()\n",
        "\n",
        "  optimizer.step()\n",
        "\n",
        "  model_1.eval()\n",
        "  with torch.inference_mode():\n",
        "    test_logits = model_1(X_test).squeeze()\n",
        "    test_pred = torch.round(torch.sigmoid(test_logits))\n",
        "\n",
        "    test_loss = loss_fn(test_logits, y_test)\n",
        "\n",
        "    test_accuracy = accuracy_fn(y_true=y_test, y_pred = test_pred)\n",
        "\n",
        "  if epoch % 10 == 0:\n",
        "    print(f\"Epoch: {epoch} | Train Loss: {loss:.5f} | Accuracy: {accuracy:.2f} | Test Loss: {test_loss:.5f} | Test Accuracy: {test_accuracy:.2f}\")'''\n",
        "\n",
        "\n"
      ],
      "metadata": {
        "colab": {
          "base_uri": "https://localhost:8080/",
          "height": 105
        },
        "id": "LomEi8Ne0HRA",
        "outputId": "8e3ecab3-ef44-4ab7-c511-1da93e453450"
      },
      "execution_count": null,
      "outputs": [
        {
          "output_type": "execute_result",
          "data": {
            "text/plain": [
              "'epochs = 100\\n\\nfor epoch in range(epochs):\\n  model_1.train()\\n\\n  y_logits_1 = model_1(X_train).squeeze()\\n  y_pred = torch.round(torch.sigmoid(y_logits))\\n\\n  loss = loss_fn(y_logits_1, y_train)\\n  accuracy = accuracy_fn(y_true = y_train, y_pred = y_pred)\\n\\n  optimizer.zero_grad()\\n\\n  loss.backward()\\n\\n  optimizer.step()\\n\\n  model_1.eval()\\n  with torch.inference_mode():\\n    test_logits = model_1(X_test).squeeze()\\n    test_pred = torch.round(torch.sigmoid(test_logits))\\n\\n    test_loss = loss_fn(test_logits, y_test)\\n\\n    test_accuracy = accuracy_fn(y_true=y_test, y_pred = test_pred)\\n\\n  if epoch % 10 == 0:\\n    print(f\"Epoch: {epoch} | Train Loss: {loss:.5f} | Accuracy: {accuracy:.2f} | Test Loss: {test_loss:.5f} | Test Accuracy: {test_accuracy:.2f}\")'"
            ],
            "application/vnd.google.colaboratory.intrinsic+json": {
              "type": "string"
            }
          },
          "metadata": {},
          "execution_count": 29
        }
      ]
    }
  ]
}